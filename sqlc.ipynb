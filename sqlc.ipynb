{
 "cells": [
  {
   "cell_type": "markdown",
   "metadata": {
    "editable": true,
    "slideshow": {
     "slide_type": ""
    },
    "tags": []
   },
   "source": [
    "### Golang SQLc 笔记test"
   ]
  },
  {
   "cell_type": "markdown",
   "metadata": {},
   "source": [
    "## 1.Install Sqlc   安装sqlc包"
   ]
  },
  {
   "cell_type": "markdown",
   "metadata": {},
   "source": [
    "**_Go >= 1.17：_** `go install github.com/sqlc-dev/sqlc/cmd/sqlc@latest`|"
   ]
  },
  {
   "cell_type": "markdown",
   "metadata": {},
   "source": [
    "**Go < 1.17:**     `go install github.com/sqlc-dev/sqlc/cmd/sqlc`"
   ]
  },
  {
   "cell_type": "markdown",
   "metadata": {},
   "source": [
    "## 2.Sqlc与Mysql例子："
   ]
  },
  {
   "cell_type": "markdown",
   "metadata": {},
   "source": [
    "(1）项目使用mod模式：` go mod init yourProject `"
   ]
  },
  {
   "cell_type": "markdown",
   "metadata": {},
   "source": [
    "(2) 项目目录添加 sqlc.json 配置文件:\n",
    "```\n",
    "version: \"2\"\n",
    "sql:\n",
    "  - engine: \"mysql\"\n",
    "    queries: \"query.sql\"\n",
    "    schema: \"schema.sql\"\n",
    "    package: \"tutorial\"\n",
    "    name: \"tutorial\""
   ]
  },
  {
   "cell_type": "markdown",
   "metadata": {},
   "source": [
    "（3）项目目录添加 schema.sql 数据库配置文件：\n",
    "```\n",
    "CREATE TABLE authors (\n",
    "  id   BIGINT  NOT NULL AUTO_INCREMENT PRIMARY KEY,\n",
    "  name text    NOT NULL,\n",
    "  bio  text\n",
    ");"
   ]
  },
  {
   "cell_type": "markdown",
   "metadata": {},
   "source": [
    "(4) 项目目录添加query.sql sql语句执行配置文件：\n",
    "```\n",
    "SELECT * FROM authors\n",
    "WHERE id = ? LIMIT 1;\n",
    "\n",
    "-- name: ListAuthors :many\n",
    "SELECT * FROM authors\n",
    "ORDER BY name;\n",
    "\n",
    "-- name: CreateAuthor :execresult\n",
    "INSERT INTO authors (\n",
    "  name, bio\n",
    ") VALUES (\n",
    "  ?, ?\n",
    ");\n",
    "\n",
    "-- name: DeleteAuthor :exec\n",
    "DELETE FROM authors\n",
    "WHERE id = ?;"
   ]
  },
  {
   "cell_type": "markdown",
   "metadata": {},
   "source": [
    "(5) 执行命令 ： `sqlc generate`"
   ]
  },
  {
   "cell_type": "code",
   "execution_count": null,
   "metadata": {},
   "outputs": [],
   "source": []
  }
 ],
 "metadata": {
  "kernelspec": {
   "display_name": "Python 3 (ipykernel)",
   "language": "python",
   "name": "python3"
  },
  "language_info": {
   "codemirror_mode": {
    "name": "ipython",
    "version": 3
   },
   "file_extension": ".py",
   "mimetype": "text/x-python",
   "name": "python",
   "nbconvert_exporter": "python",
   "pygments_lexer": "ipython3",
   "version": "3.8.3"
  },
  "vscode": {
   "interpreter": {
    "hash": "2469a70536e4d2335a2ea8907942d0699c37342a371ac185bdb5b0aa6f073890"
   }
  }
 },
 "nbformat": 4,
 "nbformat_minor": 4
}
