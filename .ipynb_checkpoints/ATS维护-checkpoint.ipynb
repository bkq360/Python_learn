{
 "cells": [
  {
   "cell_type": "markdown",
   "metadata": {},
   "source": [
    "ATS 维护"
   ]
  },
  {
   "cell_type": "markdown",
   "metadata": {},
   "source": [
    "1.修改密码，添加用户\n"
   ]
  },
  {
   "cell_type": "markdown",
   "metadata": {},
   "source": [
    "2.修改 fail Symtom"
   ]
  },
  {
   "cell_type": "markdown",
   "metadata": {},
   "source": [
    "3.修改工站内容（增加工站Dri，新加工站，工站名称不对）"
   ]
  },
  {
   "cell_type": "markdown",
   "metadata": {},
   "source": [
    "4.用户权限"
   ]
  },
  {
   "cell_type": "markdown",
   "metadata": {},
   "source": [
    "5.FA流程回退"
   ]
  },
  {
   "cell_type": "markdown",
   "metadata": {},
   "source": [
    "6.删除Issue"
   ]
  },
  {
   "cell_type": "markdown",
   "metadata": {},
   "source": [
    "7.report问题"
   ]
  },
  {
   "cell_type": "markdown",
   "metadata": {},
   "source": [
    "8.input 数据查询问题"
   ]
  },
  {
   "cell_type": "markdown",
   "metadata": {},
   "source": [
    "ATS数据库表"
   ]
  },
  {
   "cell_type": "code",
   "execution_count": 2,
   "metadata": {},
   "outputs": [
    {
     "ename": "NameError",
     "evalue": "name 'build' is not defined",
     "output_type": "error",
     "traceback": [
      "\u001b[1;31m---------------------------------------------------------------------------\u001b[0m",
      "\u001b[1;31mNameError\u001b[0m                                 Traceback (most recent call last)",
      "Cell \u001b[1;32mIn[2], line 1\u001b[0m\n\u001b[1;32m----> 1\u001b[0m build\n\u001b[0;32m      2\u001b[0m category\n\u001b[0;32m      3\u001b[0m change_type\n",
      "\u001b[1;31mNameError\u001b[0m: name 'build' is not defined"
     ]
    }
   ],
   "source": [
    "build \n",
    "category\n",
    "change_type\n",
    "evolution     //evolution\n",
    "fail_symptom  //fail 项\n",
    "func_group   //用户权限表（分组）\n",
    "lrb_process //Lrb Issue 表\n",
    "issue_list   //issue \n",
    "pcda_station  //工站ID\n",
    "project      //专案表\n",
    "\n",
    "root_cause\n",
    "root_cause_history\n",
    "\n",
    "stage       //工站Stage\n",
    "station     //工站表\n",
    "\n",
    "report_build   //当前专案所有的config\n",
    "report_column  //用户勾选的config统计表\n",
    "report_dri_name //Report_daily报告中 DRI配置表\n",
    "\n",
    "status      //issue 状态表\n",
    "change_history //issue信息变更表\n",
    "analysis_step_history   //FA 流转变更\n",
    "user_table   //用户表"
   ]
  },
  {
   "cell_type": "markdown",
   "metadata": {},
   "source": [
    "UTS 维护\n"
   ]
  },
  {
   "cell_type": "markdown",
   "metadata": {},
   "source": [
    "196服务器地址：10.134.82.196 账户名：F7688775 密码：iDS.202401..   "
   ]
  },
  {
   "cell_type": "markdown",
   "metadata": {},
   "source": [
    "两台电脑账户名：ats 密码ats123."
   ]
  }
 ],
 "metadata": {
  "kernelspec": {
   "display_name": "Python 3 (ipykernel)",
   "language": "python",
   "name": "python3"
  },
  "language_info": {
   "codemirror_mode": {
    "name": "ipython",
    "version": 3
   },
   "file_extension": ".py",
   "mimetype": "text/x-python",
   "name": "python",
   "nbconvert_exporter": "python",
   "pygments_lexer": "ipython3",
   "version": "3.8.2rc2"
  },
  "vscode": {
   "interpreter": {
    "hash": "8bfad08b73d8ae58273d7e252c9e1d922058e2a21d3a8ccb2a1b9808ae54a57f"
   }
  }
 },
 "nbformat": 4,
 "nbformat_minor": 4
}
