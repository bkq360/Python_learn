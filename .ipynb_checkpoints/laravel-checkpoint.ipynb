{
 "cells": [
  {
   "cell_type": "markdown",
   "id": "17eeeab1-a0d1-4d8e-8136-4546453fc34d",
   "metadata": {},
   "source": [
    "# laravel 笔记"
   ]
  },
  {
   "cell_type": "markdown",
   "id": "c5f30a46-b420-4103-bb4c-2caf724f4c69",
   "metadata": {},
   "source": [
    "### 1.安装项目：`composer create-project laravel/laravel example-app`"
   ]
  },
  {
   "cell_type": "markdown",
   "id": "d91f984c-6911-4953-a35e-038e79031bd6",
   "metadata": {},
   "source": [
    "### 2.运行项目：php artisan serve"
   ]
  },
  {
   "cell_type": "markdown",
   "id": "f6c88262-d98f-406b-8085-b858e26f9111",
   "metadata": {},
   "source": []
  }
 ],
 "metadata": {
  "kernelspec": {
   "display_name": "Python 3 (ipykernel)",
   "language": "python",
   "name": "python3"
  },
  "language_info": {
   "codemirror_mode": {
    "name": "ipython",
    "version": 3
   },
   "file_extension": ".py",
   "mimetype": "text/x-python",
   "name": "python",
   "nbconvert_exporter": "python",
   "pygments_lexer": "ipython3",
   "version": "3.8.2rc2"
  }
 },
 "nbformat": 4,
 "nbformat_minor": 5
}
