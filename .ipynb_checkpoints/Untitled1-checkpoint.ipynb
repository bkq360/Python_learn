{
 "cells": [
  {
   "cell_type": "markdown",
   "id": "14a782de-266d-450f-9494-0d73573b25d7",
   "metadata": {},
   "source": [
    "Vite\n",
    "1.install npm\n",
    "2.npm create vite@latest my-vue-app -- --template vue       //npm >=7.0\n",
    "3.npm intall \n",
    "4.npm run dev\n"
   ]
  }
 ],
 "metadata": {
  "kernelspec": {
   "display_name": "Python 3 (ipykernel)",
   "language": "python",
   "name": "python3"
  },
  "language_info": {
   "codemirror_mode": {
    "name": "ipython",
    "version": 3
   },
   "file_extension": ".py",
   "mimetype": "text/x-python",
   "name": "python",
   "nbconvert_exporter": "python",
   "pygments_lexer": "ipython3",
   "version": "3.8.2rc2"
  }
 },
 "nbformat": 4,
 "nbformat_minor": 5
}
