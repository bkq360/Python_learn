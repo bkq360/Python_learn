{
 "cells": [
  {
   "cell_type": "code",
   "execution_count": 2,
   "metadata": {},
   "outputs": [
    {
     "name": "stdout",
     "output_type": "stream",
     "text": [
      "['0 ', '\\n[]\\n']\n",
      "0 SFC_OK\n",
      "[]\n",
      "\n"
     ]
    }
   ],
   "source": [
    "import requests\n",
    "\n",
    "# 发送GET请求\n",
    "response = requests.get('http://10.134.82.140/autofatpic?c=QUERY_RECORD&sn=G39XNL00D1&category=J773&p=repair_data')\n",
    "\n",
    "# 检查响应状态码\n",
    "if response.status_code == 200:\n",
    "    # 处理响应数据\n",
    "    # data = response.json()\n",
    "    data = response.text\n",
    "    list = data.split(\"SFC_OK\")\n",
    "    print(list)\n",
    "    print(data)\n",
    "else:\n",
    "    print('请求失败：', response.status_code)"
   ]
  },
  {
   "cell_type": "code",
   "execution_count": 23,
   "metadata": {},
   "outputs": [
    {
     "name": "stdout",
     "output_type": "stream",
     "text": [
      "None\n"
     ]
    }
   ],
   "source": [
    "# import re\n",
    "# data = '{\"WIP_NO\" : \"HG627PYGG6\",\"STATION_TYPE\" : \"GRAPE-CAL\",\"START_TIME\" : \"2023-10-31 15:59:42\",\"STOP_TIME\" : \"2023-10-31 16:00:21\",\"IS_TEST_FAIL\" : \"0\",\"SYMPTOM_CODE\" : \"aanull\",\"SYMPTOM_DESC\" : \"aanull\",\"CATEGORY_KEY\" : \"J508\",\"CONFIG\" : \"J508-DVT_MINI-DWCBU-DPM2\"}'\n",
    "# pattan = r'WIP_NO\" : \"HG627PYGG6\"'\n",
    "# result = re.match(pattan,data)\n",
    "# print(result)"
   ]
  },
  {
   "cell_type": "markdown",
   "metadata": {},
   "source": [
    "jupyter notebook password \n",
    "\n",
    "生成密码\n",
    "jupyter notebook --ip=0.0.0.0 --port=8888 \n",
    "\n",
    "指定端口启动服务"
   ]
  },
  {
   "cell_type": "code",
   "execution_count": 58,
   "metadata": {},
   "outputs": [
    {
     "name": "stdout",
     "output_type": "stream",
     "text": [
      "'nu\\\\l\"l'\n",
      "'null'\n",
      "'null'\n",
      "'null'\n",
      "'null'\n",
      "'null'\n",
      "{\"WIP_NO\" : \"HG627PYGG6\",\"STATION_TYPE\" : \"CAMERA-BANDING-POST\",\"START_TIME\" : \"2023-10-31 17:12:40\",\"STOP_TIME\" : \"2023-10-31 17:13:02\",\"IS_TEST_FAIL\" : \"0\",\"SYMPTOM_CODE\" : \"nu\\\\l\\\"l\",\"SYMPTOM_DESC\" : \"null\",\"CATEGORY_KEY\" : \"J508\",\"CONFIG\" : \"J508-DVT_MINI-DWCBU-DPM2\"},{\"WIP_NO\" : \"HG627PYGG6\",\"STATION_TYPE\" : \"CAMERA-POSTBURN\",\"START_TIME\" : \"2023-11-02 08:42:38\",\"STOP_TIME\" : \"2023-11-02 08:43:56\",\"IS_TEST_FAIL\" : \"0\",\"SYMPTOM_CODE\" : \"null\",\"SYMPTOM_DESC\" : \"null\",\"CATEGORY_KEY\" : \"J508\",\"CONFIG\" : \"J508-DVT_MINI-DWCBU-DPM2\"},{\"WIP_NO\" : \"HG627PYGG6\",\"STATION_TYPE\" : \"MAGNET-SPINE\",\"START_TIME\" : \"2023-10-31 18:01:17\",\"STOP_TIME\" : \"2023-10-31 18:02:02\",\"IS_TEST_FAIL\" : \"0\",\"SYMPTOM_CODE\" : \"null\",\"SYMPTOM_DESC\" : \"null\",\"CATEGORY_KEY\" : \"J508\",\"CONFIG\" : \"J508-DVT_MINI-DWCBU-DPM2\"}\n"
     ]
    }
   ],
   "source": [
    "import re\n",
    "from pprint import pprint\n",
    "\n",
    "# 定义回调函数\n",
    "str = '['J508-DVT_MAIN-DWCBLS-DP2', 'J507-DVT_REG-R7EBU-DP', 'J508-DVT_MAIN-P1BWDPU-ID', 'J508-DVT_MAIN-DWEBLS-P1', 'J508-DVT_SOP-DWCBU-DPS2', 'J507-DVT_REG-R7BBU-P1', 'J507-DVT_MAIN-D7BBU-P1', 'J508-DVT_REG-RWDBLS-P1', 'J508-DVT_DOE-DWCSS-MCB', 'J508-DVT_MAIN-DWEPS-DPM', 'J507-DVT_MAIN-D7EBLU-DP4', 'J508-DVT_MAIN-DWEBLU-DP1', 'J507-DVT_REG-R7CSS-DP1', 'J508-DVT_MAIN-DWCBU-DPPT1', 'J508-DVT_REG-RCEBS-DPNBPT1', 'J507-DVT_REG-R7CSS-P', 'J507-DVT_MINI-D7EBS-PM4', 'J507-DVT_ID-D7ESU-DPID', 'J507-DVT_REG-R7BBU-DPDB', 'J508-DVT_REG-RCDSS-P1', 'J507-DVT_REL-D7BSU-DPR1A', 'J508-DVT_MAIN-DCEPU-DP', 'J507-DVT_MAIN-D7EBU-DPNBPT', 'J508-DVT_REG-RWBBU-DPDBPT', 'J508-DVT_MAIN-DWCSU-DP', 'J507-DVT_MAIN-D7EBLU-PNB', 'J507-DVT_MAIN-D7DPS-DP', 'J508-DVT_DOE-DWDBS-DPDBPT', 'J507-DVT_REG-R7BBU-DPPT', 'J508-DVT_REG-RCEBS-DPNBPT', 'J508-DVT_REG-RWDBLU-DPNB', 'J508-DVT_DOE-DWCPS-MC33', 'J508-DVT_MAIN-DWEBLS-P2', 'J508-DVT_SOP-DCCBS-DPS3', 'J508-DVT_REG-RWEBLU-DPNB', 'J508-DVT_REG-RWDSS-DP2', 'J508-DVT_REG-RWDSU-DP', 'J507-DVT_MAIN-D7EBLS-P', 'J508-DVT_MAIN-DCCBS-PNB', 'J507-DVT_MAIN-D7ESU-DP', 'J508-DVT_REG-RWBBU-DPDBPT2', 'J507-DVT_MAIN-D7CBS-DP', 'J507-DVT_DOE-D7BSU-DP', 'J508-DVT_MAIN-DWEBU-P', 'J507-DVT_REL-D7EBLU-PR5A', 'J508-DVT_REL-DWEBLS-PR6A', 'J508-DVT_REG-RWDBLS-P', 'J508-DVT_MAIN-DWEBU-P1', 'J508-DVT_MAIN-DWBSU-DP', 'J508-DVT_MAIN-DWEBLU-DPNB1', 'J508-DVT_REG-RWEBLS-DPNB', 'J508-DVT_MAIN-DWBSU-DP1', 'J508-DVT_MAIN-DWDPS-DP', 'J508-DVT_MAIN-DWEPS-DP', 'J507-DVT_MAIN-D7EPS-DP1', 'J507-DVT_MAIN-D7EBU-DPNB', 'J507-DVT_ID-D7EPU-DPID', 'J507-DVT_MAIN-P1B7DBLS-1', 'J508-DVT_MAIN-DWCBU-DPDB1', 'J508-DVT_REG-RCCSS-P', 'J507-DVT_MAIN-D7BBLU-DP1', 'J508-DVT_REG-RWESU-D', 'J507-DVT_REG-R7EBU-DPT', 'J508-DVT_REL-DWCSS-DPR2B', 'J507-DVT_MAIN-D7DBLU-DP1', 'J507-DVT_MAIN-D7EPU-DPNB', 'J508-DVT_REG-RWBSU-DP', 'J507-DVT_REG-R7BBU-P', 'J508-DVT_MAIN-DCCBS-DP', 'J508-DVT_MAIN-DCEPS-DPNB', 'J508-DVT_REG-RWDBU-DP1', \n",
    "'J508-DVT_ID-DWEBU-DPID', 'J507-DVT_REG-R7BBU-DPPT1', 'J507-DVT_MAIN-D7CPS-DP1', 'J507-DVT_MAIN-D7BPU-DP2', 'J508-DVT_MAIN-DWCBU-P', 'J508-DVT_MAIN-DWBPU-DP1', 'J508-DVT_DOE-DWCBU-DPDB', 'J508-DVT_DOE-DWBBLU-MC16', 'J507-DVT_REG-R7CSU-DP1', 'J507-DVT_REG-R7EBU-D1', 'J508-DVT_DOE-DWCPS-MC36', 'J507-DVT_MAIN-D7CSS-DP3', 'J508-DVT_MAIN-DWDBS-DP1', 'J507-DVT_REG-R7ESS-DPNB1', 'J507-DVT_MAIN-D7CSS-DP2', 'J508-DVT_REG-RWBBU-DPDB', 'J508-DVT_MAIN-DWCBLU-DP1', 'J507-DVT_REG-R7EBS-DPNB', 'J508-DVT_DOE-DWDBS-DPPT', 'J508-DVT_REG-RWDSS-DP1', 'J508-DVT_REG-RCBBLU-DP', 'J507-DVT_MINI-D7DBU-PM3', 'J508-DVT_MAIN-DWEBU-DP', 'J508-DVT_REG-RWEBU-DPNBPT', 'J508-DVT_MAIN-DCCBU-DPNBPT1', 'J507-DVT_REG-R7BBS-DPPT', 'J507-DVT_MAIN-D7ESU-DP4', 'J507-DVT_REG-R7EBU-DPNBPT', 'J507-DVT_REG-R7BBU-DPPT2', 'J508-DVT_MAIN-DWDSU-DP1', 'J508-DVT_MAIN-DWESU-DP', 'J508-DVT_MAIN-DCCBS-DPNB', 'J508-DVT_MAIN-DWCBU-DPDBPT', 'J508-DVT_REG-RCESU-P', 'J508-DVT_SOP-DCDBU-DPS4', 'J508-DVT_REG-RWEBS-DPPT1', 'J507-DVT_MAIN-D7DBLS-P', 'J508-DVT_DOE-DWCBU-DPPT', 'J508-DVT_REG-RCBBLS-DP', 'J508-DVT_MAIN-DWCBU-DP1', 'J508-DVT_MINI-DWBBS-DPM1', 'J508-DVT_DOE-DWBBLU-MC23H', 'J508-DVT_MAIN-DWEBS-P1', 'J508-DVT_MAIN-DCCBU-DPPT', 'J508-DVT_MAIN-DCDBS-DP', 'J508-DVT_MAIN-DWCBLU-DP', 'J508-DVT_DOE-DWBPU-MC26', 'J508-DVT_MAIN-DWCPS-DP1', 'J508-DVT_MAIN-DCCBLS-P', 'J507-DVT_MAIN-D7EBU-DPPT1', 'J508-DVT_REG-RWDSS-DP', 'J508-DVT_REL-DWEBLS-DR8', 'J508-DVT_REG-RCEBS-DPNB1', 'J508-DVT_REG-RCESU-DPNB1', 'J508-DVT_MAIN-DWESU-P', 'J508-DVT_MAIN-DWBBLU-DP', 'J508-DVT_MAIN-DWEBLS-DPNB', 'J507-DVT_MAIN-D7EBLU-DP3', 'J508-DVT_MAIN-DWCBLS-DP', 'J508-DVT_REG-RWEBU-DPT', 'J508-DVT_REG-RWEBU-DDBPT', 'J508-DVT_REG-RCBSS-P', 'J507-DVT_MAIN-D7BBU-P3', 'J507-DVT_MAIN-D7BPU-DP1', 'J508-DVT_MAIN-DWEBLS-DPM', 'J508-DVT_REG-RWESU-D1', 'J507-DVT_MAIN-D7BBU-P2', 'J508-DVT_REG-RWESS-P', 'J508-DVT_MAIN-DWEPU-P', 'J507-DVT_DOE-D7DBU-DPDBPT', 'J507-DVT_MAIN-D7CBLS-DP', 'J507-DVT_REL-D7EBLU-PR7', 'J507-DVT_MAIN-D7EBU-DPDBPT1', 'J508-DVT_MAIN-DWDBS-DP', 'J507-DVT_MAIN-D7ESU-P1', 'J508-DVT_MINI-DWCBU-PM3', 'J508-DVT_MAIN-DCCBU-DP', 'J508-DVT_MAIN-DWDSS-DP', 'J508-DVT_MAIN-DWEBLS-P', 'J507-DVT_MAIN-D7BPU-DP', 'J508-DVT_REG-RCEBU-DPNB', 'J507-DVT_MAIN-D7BBLS-DP2', 'J507-DVT_ID-D7EBLU-DPID', 'J508-DVT_ID-DWEPU-DPID', 'J507-DVT_REL-D7EPU-PR5B', 'J507-DVT_REG-R7EBS-P', 'J508-DVT_DOE-DWDSS-DP1', 'J507-DVT_MAIN-D7ESU-DP2', 'J508-DVT_MAIN-DWESS-DPM', 'J508-DVT_REG-RWBBU-DPPT', 'J507-DVT_REG-R7BBS-DPPT2', 'J508-DVT_MAIN-DWBBLS-P', 'J508-DVT_PDFC-DWCBU-DPFC2', 'J507-DVT_MAIN-D7EBS-P', 'J507-DVT_REG-R7CSU-DP', 'J508-DVT_REG-RCEBLS-DPNB', 'J507-DVT_REG-R7CSS-DP', 'J507-DVT_REG-R7BSU-DP', 'J508-DVT_MAIN-DWESS-DP', 'J508-DVT_DOE-DCCBS-DPPT', 'J507-DVT_MINI-D7CBS-DPM1', 'J507-DVT_MAIN-D7EBU-DP', 'J507-DVT_REL-D7CBS-DR9B', 'J507-DVT_REG-R7EBU-D2', 'J508-DVT_REG-RWEBS-DPNBPT', 'J508-DVT_MINI-DWEBS-PM4', 'J508-DVT_MAIN-DWEBU-DP2', 'J507-DVT_SOP-D7DBS-DPS2', 'J508-DVT_REG-RWBBU-DPPT1', 'J508-DVT_REL-DWBBS-DPR2A', 'J508-DVT_MAIN-DWCBU-DP', 'J508-DVT_DOE-DWCSS-MCC', 'J508-DVT_MAIN-DWDPS-P', 'J508-DVT_MAIN-DCEPU-DPNB', 'J507-DVT_REL-D7DSU-DPR3B', 'J507-DVT_REG-R7BBS-DPPT1', 'J508-DVT_SOP-DWBBS-DPS1', 'J508-DVT_REG-RWEBS-DPPT', 'J508-DVT_REG-RCEBU-DPNBPT', 'J508-DVT_REG-RWDBS-P', 'J508-DVT_REG-RCDSS-P', 'J508-DVT_ID-DWEBLU-DPID', 'J508-DVT_REL-DWDBS-DR10B', 'J507-DVT_MAIN-D7DPS-DP1', 'J508-DVT_REG-RWDBU-DP', 'J508-DVT_REG-RCBBU-DPDBPT', 'J508-DVT_REG-RWCSS-P', 'J508-DVT_REL-DWEBLS-DR6B', \n",
    "'J508-DVT_MAIN-DWEBS-DPM', 'J508-DVT_REL-DWDBLS-DR10A2', 'J507-DVT_MAIN-D7BSU-DP1', 'J508-DVT_REG-RCBBS-DPDBPT', 'J508-DVT_PDFC-DWCBU-DPFC1', 'J508-DVT_MAIN-DWEBLU-DPNB', 'J507-DVT_MAIN-D7ESS-DP2', 'J508-DVT_MAIN-DWBPS-DP', 'J507-DVT_SOP-D7BBU-DPS1', 'J507-DVT_MAIN-D7ESS-DPNB', 'J507-DVT_PDFC-D7CBU-DPFC3', 'J508-DVT_MAIN-DCCSS-P1', 'J508-DVT_MAIN-DWESS-PNB', 'J507-DVT_REG-R7CBS-DPDBPT', 'J508-DVT_MAIN-DCEBLS-PNB', 'J507-DVT_REG-R7DBU-P', 'J508-DVT_MAIN-DWEBU-DP1', 'J508-DVT_REG-RWBSU-P', 'J508-DVT_ID-DWESU-DPID', 'J507-DVT_REG-R7ESU-DP', 'J507-DVT_MAIN-D7ESS-P', 'J508-DVT_REG-RWDBLS-DPNB', 'J507-DVT_ID-D7EBU-DPID', 'J507-DVT_REG-R7BBU-DPDBPT', 'J507-DVT_REG-R7CSS-P1', 'J508-DVT_REL-DWDBS-DPR4A', 'J507-DVT_MAIN-D7BSU-P', 'J507-DVT_MAIN-D7CPS-P', 'J507-DVT_REL-D7BSU-DPR1B', 'J507-DVT_REL-D7CBLS-DR9A', 'J507-DVT_MAIN-D7CBU-DP', 'J508-DVT_REG-RWESU-DP', 'J507-DVT_REL-D7CBU-DPR3A', 'J508-DVT_REG-RCEBU-DPNBPT1', 'J508-DVT_REG-RWEBS-DPDBPT', 'J508-DVT_REG-RCBBS-DPPT', 'J508-DVT_DOE-DWEBU-DPNBPT', 'J508-DVT_REG-RCEBU-DPNB2', 'J508-DVT_MINI-DWCBU-DPM2', 'J508-DVT_REL-DWDBLS-DR10A1', 'J507-DVT_MAIN-D7BBLS-DP1', 'J507-DVT_MINI-D7DBU-DPM2', 'J508-DVT_REL-DWDSS-PR4B', 'J507-DVT_MAIN-D7DSU-DP', 'J508-DVT_REG-RCBBU-DPPT', 'J508-DVT_DOE-DWBBLU-MC13H']'\n",
    "def dashrepl(matchobj):\n",
    "    pprint(matchobj.group(0))\n",
    "    data = matchobj.group(0).replace(\"\\\\\",\"\\\\\\\\\")\n",
    "    data = data.replace(\"\\\"\",\"\\\\\\\"\")\n",
    "    return data\n",
    "    # if matchobj.group(0) == '-': return ' '\n",
    "    # else: return '-'\n",
    "bb=re.sub('(?<=SYMPTOM_CODE\" : \").*?(?=\",\"SYMPTOM_DESC)|(?<=SYMPTOM_DESC\" : \").*?(?=\",\"CATEGORY_KEY)', dashrepl, str)\n",
    "# print(str)\n",
    "print(bb)\n",
    "# import re\n",
    "\n",
    "# # 定义回调函数\n",
    "# def square(match):\n",
    "#     num = int(match.group(0))\n",
    "#     return str(num * num)\n",
    "\n",
    "# # 使用回调函数替换匹配的文本\n",
    "# result = re.sub(r'\\d+', square, '1 2 3 4 5')\n",
    "# print(result)  # 输出：1 4 9 16 25"
   ]
  },
  {
   "cell_type": "code",
   "execution_count": 47,
   "metadata": {},
   "outputs": [
    {
     "data": {
      "text/plain": [
       "('pro    gram files', 5)"
      ]
     },
     "execution_count": 47,
     "metadata": {},
     "output_type": "execute_result"
    }
   ],
   "source": [
    "import re\n",
    "def dashrepl(matchobj):\n",
    "     if matchobj.group(0) == '-': return ' '\n",
    "     else: return '-'\n",
    "re.subn('-', dashrepl, 'pro----gram-files')"
   ]
  }
 ],
 "metadata": {
  "kernelspec": {
   "display_name": "Python 3 (ipykernel)",
   "language": "python",
   "name": "python3"
  },
  "language_info": {
   "codemirror_mode": {
    "name": "ipython",
    "version": 3
   },
   "file_extension": ".py",
   "mimetype": "text/x-python",
   "name": "python",
   "nbconvert_exporter": "python",
   "pygments_lexer": "ipython3",
   "version": "3.8.2"
  },
  "vscode": {
   "interpreter": {
    "hash": "8bfad08b73d8ae58273d7e252c9e1d922058e2a21d3a8ccb2a1b9808ae54a57f"
   }
  }
 },
 "nbformat": 4,
 "nbformat_minor": 4
}
