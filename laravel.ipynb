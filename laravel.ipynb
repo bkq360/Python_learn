{
 "cells": [
  {
   "cell_type": "markdown",
   "id": "17eeeab1-a0d1-4d8e-8136-4546453fc34d",
   "metadata": {},
   "source": [
    "# laravel 笔记"
   ]
  },
  {
   "cell_type": "markdown",
   "id": "c5f30a46-b420-4103-bb4c-2caf724f4c69",
   "metadata": {},
   "source": [
    "### 1.安装项目：`composer create-project laravel/laravel example-app`"
   ]
  },
  {
   "cell_type": "markdown",
   "id": "d91f984c-6911-4953-a35e-038e79031bd6",
   "metadata": {},
   "source": [
    "### 2.运行项目：php artisan serve"
   ]
  },
  {
   "cell_type": "markdown",
   "id": "f6c88262-d98f-406b-8085-b858e26f9111",
   "metadata": {},
   "source": [
    "### 3.数据库 Migration"
   ]
  },
  {
   "cell_type": "markdown",
   "id": "9db27828-5296-4a40-ae93-d7d537e5e40a",
   "metadata": {},
   "source": [
    "(1) 生成迁移SQL配置文件：`php artisan make:migration create_users2`\n",
    " ``` \n",
    "class CreateUsers2 extends Migration\n",
    "{\n",
    "    /**\n",
    "     * Run the migrations.\n",
    "     *\n",
    "     * @return void\n",
    "     */\n",
    "    public function up()\n",
    "    {\n",
    "        Schema::create('flights', function (Blueprint $table) {\n",
    "            $table->increments('id');\n",
    "            $table->string('name');\n",
    "            $table->string('airline');\n",
    "            $table->timestamps();\n",
    "        });\n",
    "    }\n",
    "\n",
    "    /**\n",
    "     * Reverse the migrations.\n",
    "     *\n",
    "     * @return void\n",
    "     */\n",
    "    public function down()\n",
    "    {\n",
    "        Schema::drop('flights');\n",
    "    }\n",
    "}"
   ]
  },
  {
   "cell_type": "markdown",
   "id": "fab9b8d4-a5e6-45c5-876f-1c47495031df",
   "metadata": {},
   "source": [
    "(2) 执行迁移命令：`php artisan migrate`"
   ]
  },
  {
   "cell_type": "markdown",
   "id": "0e39dbb6-61bc-4ddd-9e9e-43216a48790a",
   "metadata": {},
   "source": [
    "(3)回滚迁移命令：`php artisan migrate:rollback`\n",
    "注：该命令默认会执行迁移文件中的down方法"
   ]
  },
  {
   "cell_type": "markdown",
   "id": "badbdb93-c8ae-4e0f-9245-0e185a6165d6",
   "metadata": {},
   "source": [
    "### 4.入口文件Public/Index.php: index.php "
   ]
  },
  {
   "cell_type": "markdown",
   "id": "efe44628-8369-431b-a918-ec5649d55498",
   "metadata": {},
   "source": [
    "文件加载 Composer 生成的自动加载器定义，然后从 bootstrap/app.php 检索 Laravel 应用程序的实例"
   ]
  },
  {
   "cell_type": "markdown",
   "id": "2fa97c40-a1ce-4b96-bacb-459f44d04030",
   "metadata": {},
   "source": [
    "### 5.请求生命周期\n",
    "请求通过路由到达控制器处理逻辑，控制器返回响应到路由，响应通过路由的中间件向外传回（在这里可以修改或者检查响应内容），检测到控制器传回响应，HTTP\n",
    "内核的handle方法会返回响应对象，并由Index.php对返回的响应调用send方法发送到Web浏览器。"
   ]
  },
  {
   "cell_type": "markdown",
   "id": "e5405af5-31f7-4ea1-9ba1-d67e2774a759",
   "metadata": {},
   "source": [
    "### 6.Laravel 服务容器\n",
    "服务容器是管理类依赖项和执行依赖项注入的强大工具\n"
   ]
  }
 ],
 "metadata": {
  "kernelspec": {
   "display_name": "Python 3.8.2rc2 64-bit",
   "language": "python",
   "name": "python3"
  },
  "language_info": {
   "codemirror_mode": {
    "name": "ipython",
    "version": 3
   },
   "file_extension": ".py",
   "mimetype": "text/x-python",
   "name": "python",
   "nbconvert_exporter": "python",
   "pygments_lexer": "ipython3",
   "version": "3.8.2"
  },
  "vscode": {
   "interpreter": {
    "hash": "8bfad08b73d8ae58273d7e252c9e1d922058e2a21d3a8ccb2a1b9808ae54a57f"
   }
  }
 },
 "nbformat": 4,
 "nbformat_minor": 5
}
