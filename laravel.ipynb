{
 "cells": [
  {
   "cell_type": "markdown",
   "id": "17eeeab1-a0d1-4d8e-8136-4546453fc34d",
   "metadata": {},
   "source": [
    "# laravel 笔记"
   ]
  },
  {
   "cell_type": "markdown",
   "id": "c5f30a46-b420-4103-bb4c-2caf724f4c69",
   "metadata": {},
   "source": [
    "### 1.安装项目：`composer create-project laravel/laravel example-app`"
   ]
  },
  {
   "cell_type": "markdown",
   "id": "d91f984c-6911-4953-a35e-038e79031bd6",
   "metadata": {},
   "source": [
    "### 2.运行项目：php artisan serve"
   ]
  },
  {
   "cell_type": "markdown",
   "id": "f6c88262-d98f-406b-8085-b858e26f9111",
   "metadata": {},
   "source": [
    "### 3.数据库 Migration"
   ]
  },
  {
   "cell_type": "markdown",
   "id": "9db27828-5296-4a40-ae93-d7d537e5e40a",
   "metadata": {},
   "source": [
    "(1) 生成迁移SQL配置文件：`php artisan make:migration create_users2`\n",
    " ``` \r\n",
    "class CreateUsers2 extends Migration\r\n",
    "{\r\n",
    "    /**\r\n",
    "     * Run the migrations.\r\n",
    "     *\r\n",
    "     * @return void\r\n",
    "     */\r\n",
    "    public function up()\r\n",
    "    {\r\n",
    "        Schema::create('flights', function (Blueprint $table) {\r\n",
    "            $table->increments('id');\r\n",
    "            $table->string('name');\r\n",
    "            $table->string('airline');\r\n",
    "            $table->timestamps();\r\n",
    "        });\r\n",
    "    }\r\n",
    "\r\n",
    "    /**\r\n",
    "     * Reverse the migrations.\r\n",
    "     *\r\n",
    "     * @return void\r\n",
    "     */\r\n",
    "    public function down()\r\n",
    "    {\r\n",
    "        Schema::drop('flights');\r\n",
    "    }\r\n",
    "}"
   ]
  },
  {
   "cell_type": "markdown",
   "id": "fab9b8d4-a5e6-45c5-876f-1c47495031df",
   "metadata": {},
   "source": [
    "(2) 执行迁移命令：`php artisan migrate`"
   ]
  },
  {
   "cell_type": "markdown",
   "id": "0e39dbb6-61bc-4ddd-9e9e-43216a48790a",
   "metadata": {},
   "source": [
    "(3)回滚迁移命令：`php artisan migrate:rollback`\n",
    "注：该命令默认会执行迁移文件中的down方法"
   ]
  },
  {
   "cell_type": "markdown",
   "id": "badbdb93-c8ae-4e0f-9245-0e185a6165d6",
   "metadata": {},
   "source": []
  }
 ],
 "metadata": {
  "kernelspec": {
   "display_name": "Python 3 (ipykernel)",
   "language": "python",
   "name": "python3"
  },
  "language_info": {
   "codemirror_mode": {
    "name": "ipython",
    "version": 3
   },
   "file_extension": ".py",
   "mimetype": "text/x-python",
   "name": "python",
   "nbconvert_exporter": "python",
   "pygments_lexer": "ipython3",
   "version": "3.8.2rc2"
  }
 },
 "nbformat": 4,
 "nbformat_minor": 5
}
